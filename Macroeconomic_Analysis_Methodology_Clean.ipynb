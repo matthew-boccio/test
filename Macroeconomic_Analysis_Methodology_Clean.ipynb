{
  "cells": [
    {
      "cell_type": "markdown",
      "metadata": {
        "id": "view-in-github",
        "colab_type": "text"
      },
      "source": [
        "<a href=\"https://colab.research.google.com/github/matthew-boccio/test/blob/master/Macroeconomic_Analysis_Methodology_Clean.ipynb\" target=\"_parent\"><img src=\"https://colab.research.google.com/assets/colab-badge.svg\" alt=\"Open In Colab\"/></a>"
      ]
    },
    {
      "cell_type": "markdown",
      "id": "1f82fa33",
      "metadata": {
        "id": "1f82fa33"
      },
      "source": [
        "# Macro Economic Analysis: Basic Methodology"
      ]
    },
    {
      "cell_type": "markdown",
      "id": "25097ae7",
      "metadata": {
        "id": "25097ae7"
      },
      "source": [
        "Thank you for looking at my code for this analysis! I hope that it helps anyone interested look at a number of different macroeconomic variables in relation to their conversion events and see what the effect of this weird economy is on your conversion metrics. "
      ]
    },
    {
      "cell_type": "code",
      "execution_count": null,
      "id": "df5622d4",
      "metadata": {
        "id": "df5622d4"
      },
      "outputs": [],
      "source": [
        "#import relevant packages \n",
        "\n",
        "import numpy as np\n",
        "import pandas as pd\n",
        "from sklearn import linear_model\n",
        "import math\n",
        "import seaborn as sns\n",
        "\n",
        "\n",
        "from matplotlib import pyplot as plt\n",
        "plt.style.use('ggplot')\n",
        "!pip install fredapi\n",
        "# uncomment the pip install if you don't already have fredapi installed as a package \n",
        "from fredapi import Fred"
      ]
    },
    {
      "cell_type": "markdown",
      "id": "d16c102c",
      "metadata": {
        "id": "d16c102c"
      },
      "source": [
        "Import Kepler Data from Datorama - please note sample file template!\n",
        "\n",
        "We recommend keeping things simple to start! Spend and Conversions by Month works best \n",
        "\n",
        "Make sure that you have Month as the first column, Spend as the second column, and Conversions as the third column!\n",
        "\n",
        "Make sure your file is either a .xlsx file or a .csv file! \n",
        "\n",
        "Works best with Kepler data that matches the Macro Economic data. So 1/1/18 - the previous month is what I'd do"
      ]
    },
    {
      "cell_type": "code",
      "execution_count": null,
      "id": "87b72b69",
      "metadata": {
        "id": "87b72b69",
        "collapsed": true
      },
      "outputs": [],
      "source": [
        "#DON'T SKIP: replace \"Kepler_Data_From_Datorama\" with your file name!\n",
        "\n",
        "try: \n",
        "    kepler_data_frame = pd.read_excel(\"Kepler_Data_From_Datorama.xlsx\")\n",
        "except FileNotFoundError:\n",
        "    kepler_data_frame = pd.read_csv(\"Kepler_Data_From_Datorama.csv\")\n",
        "\n",
        "#DON'T SKIP: put in the start and end date of your file \n",
        "#input the first month for your file: year, then month, then day (1) \n",
        "\n",
        "start_date = \"2018-06-01\" #@param {type : \"date\"}\n",
        "end_date = \"2022-10-01\" #@param {type : \"date\"}\n",
        "\n",
        "kepler_data_frame = kepler_data_frame.rename(columns = {\"index\": \"Month\", kepler_data_frame.columns[1]:\"Total_Spend\", kepler_data_frame.columns[2]: \"Conversions\"})\n",
        "\n",
        "#if your BU did not pause for Covid, skip this step: \n",
        "# you can skip by highlighting everything between 'start skip' and 'stop skip' and pressing \"ctrl + /\"\n",
        "\n",
        "# the spend and converison values in this data frame are arbitrary\n",
        "#if you choose to use the fill_in_data_frame, please input the values that make the most sense for your business unit \n",
        "\n",
        "#start skip\n",
        "fill_in_data_frame = pd.DataFrame({\"Month\": [\"Apr 2020\", \"May 2020\", \"Jun 2020\", \"Jul 2020\"], \n",
        "                     \"Total_Spend\": [\"$900,000.00\", \"$800,000.00\", \"$750,000.00\", \"$700,000.00\"],\n",
        "                     \"Conversions\": [\"400\", \"350\", \"200\", \"250\"]})\n",
        "\n",
        "fill_in_data_frame\n",
        "\n",
        "kepler_data_frame = pd.concat([kepler_data_frame, fill_in_data_frame]).reset_index().drop(\"index\", axis = 1)\n",
        "#stop skip\n",
        "\n",
        "kepler_data_frame"
      ]
    },
    {
      "cell_type": "code",
      "execution_count": null,
      "id": "bcc19794",
      "metadata": {
        "id": "bcc19794"
      },
      "outputs": [],
      "source": [
        "#convert to timestamp object and sort by date \n",
        "\n",
        "for i in list(range(len(kepler_data_frame[\"Month\"]))):\n",
        "    kepler_data_frame[\"Month\"][i] = pd.Timestamp(kepler_data_frame[\"Month\"][i])\n",
        "    \n",
        "kepler_data_frame = kepler_data_frame.sort_values(\"Month\").reset_index().drop(\"index\", axis = 1)\n",
        "\n",
        "kepler_data_frame = kepler_data_frame[(kepler_data_frame[\"Month\"] >= start_date) & (kepler_data_frame[\"Month\"] <= end_date)].reset_index().drop(\"index\", axis = 1)\n",
        "\n",
        "\n",
        "kepler_data_frame"
      ]
    },
    {
      "cell_type": "markdown",
      "id": "5e6e922c",
      "metadata": {
        "id": "5e6e922c"
      },
      "source": [
        "To build your data frame with accurate and up to date macroeconomic data, a connection to the St. Louis Federal Reserve (FRED) is necessary. Register an account with FRED, then get your own personal API key and insert it into the first line of code: \n",
        "\n",
        "1. Go to https://fred.stlouisfed.org/, click \"My Account\", click \"Create New Account\", and register with your Kepler Email \n",
        "2. Once you have an account, go to \"My Account\" and click \"API Keys\". In this window, click \"Request API Key\" \n",
        "3. Describe your application briefly in the text box and request the key. The key you request should appear shortly after you request it. Once you have your API key, paste it into the cell below! Replace \"API KEY\" with your own API Key "
      ]
    },
    {
      "cell_type": "code",
      "execution_count": null,
      "id": "aea0fe68",
      "metadata": {
        "id": "aea0fe68"
      },
      "outputs": [],
      "source": [
        "#please input your own API key after 'api_key = '\n",
        "fred = Fred(api_key='957a41fad909ac1dbd95403a94269991')\n",
        "\n",
        "#below, 'data' is an example series that you can pull from the FRED API. This series is inflation rate \n",
        "data = fred.get_series('CPALTT01USM659N', observation_start = \"1/1/1968\")\n",
        "data"
      ]
    },
    {
      "cell_type": "code",
      "execution_count": null,
      "id": "2481e519",
      "metadata": {
        "scrolled": false,
        "id": "2481e519"
      },
      "outputs": [],
      "source": [
        "#we're going to make a data frame with a few different macroeconomic variables, listed below: \n",
        "\n",
        "macro_data_frame = pd.DataFrame([fred.get_series(\"UNRATE\", observation_start = \"1/1/1968\"), #Unemployment (UNRATE) \n",
        "                                fred.get_series(\"CPALTT01USM659N\", observation_start = \"1/1/1968\"), #Inflation(CPALTT01USM659N) - round this to one digit after decimal \n",
        "                                fred.get_series(\"JHDUSRGDPBR\", observation_start = \"1/1/1968\"), #Recession(JHDUSRGDPBR) - binary, 1 = recession, 0 = no recession \n",
        "                                fred.get_series(\"FEDFUNDS\", observation_start = \"1/1/1968\"), #Fed Interest Rate(FEDFUNDS) \n",
        "                                fred.get_series(\"GDPC1\", observation_start = \"1/1/1968\")])#Real GDP (GDPC1)\n",
        "\n",
        "#for more macroeconomic variables, find them using fred.search(your variable), or go to fred.stlouisfed.org\n",
        "\n",
        "macro_data_frame = macro_data_frame.transpose().reset_index()\n",
        "macro_data_frame = macro_data_frame.rename(columns = {\"index\": \"Date\", 0:\"Unemployment_Rate\", 1:\"Inflation_Pct\", 2:\"Recession_Dummy\", 3:\"Fed_Interest_Rate\", 4:\"Real_GDP\"})\n",
        "macro_data_frame"
      ]
    },
    {
      "cell_type": "code",
      "execution_count": null,
      "id": "cba52896",
      "metadata": {
        "scrolled": false,
        "id": "cba52896",
        "collapsed": true
      },
      "outputs": [],
      "source": [
        "#get rid of N/A values \n",
        "print(macro_data_frame.isna().sum())\n",
        "macro_data_frame = macro_data_frame.fillna(0)\n",
        "\n",
        "#round inflation percentages to single digit past the decimal \n",
        "for i in list(range(len(macro_data_frame[\"Inflation_Pct\"]))):\n",
        "    macro_data_frame[\"Inflation_Pct\"][i] = round(macro_data_frame[\"Inflation_Pct\"][i], 1)\n",
        "\n",
        "#this smooths quarterly GDP into monthly\n",
        "for i in list(range(len(macro_data_frame[\"Real_GDP\"]))): \n",
        "    if macro_data_frame[\"Real_GDP\"][i] == 0 and i > (len(macro_data_frame[\"Real_GDP\"])-4):\n",
        "        macro_data_frame[\"Real_GDP\"][i] = macro_data_frame[\"Real_GDP\"][i-1]\n",
        "    elif macro_data_frame[\"Real_GDP\"][i] == 0 and i%3 == 1 and i <= len(macro_data_frame[\"Real_GDP\"])-2 and macro_data_frame[\"Real_GDP\"][i+2] != 0:\n",
        "        macro_data_frame[\"Real_GDP\"][i] = ((macro_data_frame[\"Real_GDP\"][i+2] - macro_data_frame[\"Real_GDP\"][i-1])/3) + macro_data_frame[\"Real_GDP\"][i-1]\n",
        "    elif macro_data_frame[\"Real_GDP\"][i] == 0 and i%3 == 2 and i <= len(macro_data_frame[\"Real_GDP\"])-1 and macro_data_frame[\"Real_GDP\"][i+1] != 0:\n",
        "        macro_data_frame[\"Real_GDP\"][i] = 2 * ((macro_data_frame[\"Real_GDP\"][i+1] - macro_data_frame[\"Real_GDP\"][i-2])/3) + macro_data_frame[\"Real_GDP\"][i-2]\n",
        "\n",
        "#making a relative change in GDP line, so we can see inc/dec        \n",
        "macro_data_frame[\"Real_GDP_%_Change\"] = 0.0\n",
        "for i in list(range(len(macro_data_frame[\"Real_GDP\"]))): \n",
        "    if i > 0 and macro_data_frame[\"Real_GDP\"][i] != 0:\n",
        "        macro_data_frame[\"Real_GDP_%_Change\"][i] = round(((macro_data_frame[\"Real_GDP\"][i]/macro_data_frame[\"Real_GDP\"][i-1])-1)*100, 2)\n",
        "    elif i > 0 and macro_data_frame[\"Real_GDP\"][i] == 0:\n",
        "        macro_data_frame[\"Real_GDP_%_Change\"][i] = 0\n",
        "        \n",
        "#for some reason, inflation didn't fill in for Aug 2022 and Sept 2022. \n",
        "#We have those numbers from reports, so we'll fill it in manually \n",
        "macro_data_frame[\"Inflation_Pct\"][655] = 8.3\n",
        "macro_data_frame[\"Inflation_Pct\"][656] = 8.2\n",
        "    \n",
        "macro_data_frame"
      ]
    },
    {
      "cell_type": "code",
      "execution_count": null,
      "id": "ea48ad58",
      "metadata": {
        "scrolled": true,
        "id": "ea48ad58"
      },
      "outputs": [],
      "source": [
        "#let's do some EDA! Here's some general summary statistics about our macroeconomic variables \n",
        "\n",
        "macro_data_frame.describe()"
      ]
    },
    {
      "cell_type": "code",
      "execution_count": null,
      "id": "b2547ee4",
      "metadata": {
        "id": "b2547ee4"
      },
      "outputs": [],
      "source": [
        "#here's a summary histogram outlining inflation percentages\n",
        "\n",
        "plt.hist(macro_data_frame[\"Inflation_Pct\"], bins = 50)"
      ]
    },
    {
      "cell_type": "code",
      "execution_count": null,
      "id": "5a26df70",
      "metadata": {
        "id": "5a26df70"
      },
      "outputs": [],
      "source": [
        "#here's a summary histogram outlining unemployment percentages\n",
        "\n",
        "plt.hist(macro_data_frame[\"Unemployment_Rate\"], bins = 50)"
      ]
    },
    {
      "cell_type": "code",
      "execution_count": null,
      "id": "aaa601db",
      "metadata": {
        "id": "aaa601db"
      },
      "outputs": [],
      "source": [
        "#a quick box plot outlining average unemployment during a recession period and a non-recession period \n",
        "\n",
        "fig = plt.figure(figsize=(15, 9))\n",
        "sns.boxplot(y=macro_data_frame[\"Unemployment_Rate\"], x=macro_data_frame[\"Recession_Dummy\"])\n",
        "plt.show()"
      ]
    },
    {
      "cell_type": "code",
      "execution_count": null,
      "id": "0d76afef",
      "metadata": {
        "id": "0d76afef"
      },
      "outputs": [],
      "source": [
        "#a quick box plot outlining average inflation during a recession period and a non-recession period \n",
        "\n",
        "\n",
        "fig = plt.figure(figsize=(15, 9))\n",
        "sns.boxplot(y=macro_data_frame[\"Inflation_Pct\"], x=macro_data_frame[\"Recession_Dummy\"])\n",
        "plt.show()"
      ]
    },
    {
      "cell_type": "code",
      "execution_count": null,
      "id": "f1d0c3d7",
      "metadata": {
        "id": "f1d0c3d7"
      },
      "outputs": [],
      "source": [
        "macro_data_frame.corr()"
      ]
    },
    {
      "cell_type": "code",
      "execution_count": null,
      "id": "afe9c1ec",
      "metadata": {
        "id": "afe9c1ec"
      },
      "outputs": [],
      "source": [
        "# Basic correlogram\n",
        "sns.pairplot(macro_data_frame)\n",
        "plt.show()"
      ]
    },
    {
      "cell_type": "code",
      "execution_count": null,
      "id": "a16ccd0c",
      "metadata": {
        "scrolled": true,
        "id": "a16ccd0c"
      },
      "outputs": [],
      "source": [
        "fig, axs = plt.subplots(figsize=(8,4))\n",
        "\n",
        "macro_data_frame[[\"Date\", \"Inflation_Pct\", \"Recession_Dummy\"]].plot(ax=axs, x = \"Date\", y = \"Inflation_Pct\", grid = True)\n",
        "macro_data_frame[[\"Date\", \"Inflation_Pct\", \"Recession_Dummy\"]].plot(ax=axs, x = \"Date\", y = \"Recession_Dummy\", secondary_y = True)\n",
        "\n",
        "plt.show()"
      ]
    },
    {
      "cell_type": "code",
      "execution_count": null,
      "id": "ae9d9062",
      "metadata": {
        "id": "ae9d9062"
      },
      "outputs": [],
      "source": [
        "fig, axs = plt.subplots(figsize=(8,4))\n",
        "\n",
        "macro_data_frame[[\"Date\", \"Inflation_Pct\", \"Real_GDP_%_Change\"]].plot(ax=axs, x = \"Date\", y = \"Inflation_Pct\", grid = True)\n",
        "macro_data_frame[[\"Date\", \"Inflation_Pct\", \"Real_GDP_%_Change\"]].plot(ax=axs, x = \"Date\", y = \"Real_GDP_%_Change\", secondary_y = True)\n",
        "\n",
        "plt.show()"
      ]
    },
    {
      "cell_type": "code",
      "execution_count": null,
      "id": "cd067e98",
      "metadata": {
        "id": "cd067e98"
      },
      "outputs": [],
      "source": [
        "fig, axs = plt.subplots(figsize=(8,4))\n",
        "\n",
        "macro_data_frame[[\"Date\", \"Real_GDP_%_Change\"]].plot(ax=axs, x = \"Date\", y = \"Real_GDP_%_Change\", grid = True)\n",
        "\n",
        "\n",
        "plt.show()"
      ]
    },
    {
      "cell_type": "code",
      "execution_count": null,
      "id": "c54ba84f",
      "metadata": {
        "id": "c54ba84f"
      },
      "outputs": [],
      "source": [
        "macro_data_frame_1 = macro_data_frame[(macro_data_frame[\"Date\"] >= start_date) & (macro_data_frame[\"Date\"] <= end_date)].reset_index().drop(\"index\", axis = 1)\n",
        "\n",
        "macro_data_frame_1"
      ]
    },
    {
      "cell_type": "code",
      "execution_count": null,
      "id": "21c5c74c",
      "metadata": {
        "id": "21c5c74c"
      },
      "outputs": [],
      "source": [
        "#combine data frames! Make sure that all the data matches \n",
        "\n",
        "regression_data_frame = pd.concat([macro_data_frame_1, kepler_data_frame], axis = 1).drop([\"Month\"], axis = 1)\n",
        "regression_data_frame"
      ]
    },
    {
      "cell_type": "code",
      "execution_count": null,
      "id": "1fbfcda4",
      "metadata": {
        "id": "1fbfcda4"
      },
      "outputs": [],
      "source": [
        "#add seasonality \n",
        "\n",
        "regression_data_frame[\"Month_No\"] = 0\n",
        "for i in list(range(len(regression_data_frame[\"Date\"]))):\n",
        "    regression_data_frame[\"Month_No\"][i] = regression_data_frame[\"Date\"][i].month\n",
        "regression_data_frame[\"Season\"] = \"0\"\n",
        "for i in list(range(len(regression_data_frame[\"Month_No\"]))):\n",
        "    if regression_data_frame[\"Month_No\"][i] == 12 or regression_data_frame[\"Month_No\"][i] < 3:\n",
        "        regression_data_frame[\"Season\"][i] = \"Winter\"\n",
        "    elif regression_data_frame[\"Month_No\"][i] >= 3 and regression_data_frame[\"Month_No\"][i] < 6:\n",
        "        regression_data_frame[\"Season\"][i] = \"Spring\"\n",
        "    elif regression_data_frame[\"Month_No\"][i] >= 6 and regression_data_frame[\"Month_No\"][i] < 9:\n",
        "        regression_data_frame[\"Season\"][i] = \"Summer\"\n",
        "    elif regression_data_frame[\"Month_No\"][i] >= 9 and regression_data_frame[\"Month_No\"][i] < 12:\n",
        "        regression_data_frame[\"Season\"][i] = \"Fall\"\n",
        "        \n",
        "seasons_dummy = regression_data_frame[\"Season\"]\n",
        "seasons_dummy = pd.get_dummies(seasons_dummy).drop([\"Fall\"], axis = 1)\n",
        "\n",
        "regression_data_frame = pd.concat([regression_data_frame, seasons_dummy], axis = 1, join = \"outer\")\n",
        "regression_data_frame = regression_data_frame.drop([\"Month_No\", \"Season\"], axis = 1)   \n",
        "\n",
        "regression_data_frame"
      ]
    },
    {
      "cell_type": "code",
      "execution_count": null,
      "id": "aa8a6bca",
      "metadata": {
        "id": "aa8a6bca"
      },
      "outputs": [],
      "source": [
        "#data cleaning, making sure that Spend and Conversions are regression ready \n",
        "\n",
        "import re\n",
        "\n",
        "try:\n",
        "    for i in list(range(len(regression_data_frame[\"Total_Spend\"]))):\n",
        "        regression_data_frame[\"Total_Spend\"][i] = (np.float64(re.sub(\"\\D\", \"\", regression_data_frame[\"Total_Spend\"][i])))/100\n",
        "except TypeError: \n",
        "    print(\"Spend is of the Correct Type\")\n",
        "try:\n",
        "    for i in list(range(len(regression_data_frame[\"Conversions\"]))):\n",
        "        regression_data_frame[\"Conversions\"][i] = np.float64(re.sub(\"\\D\", \"\", regression_data_frame[\"Conversions\"][i]))\n",
        "except TypeError:\n",
        "    print(\"Conversions are of the Correct Type\")\n",
        "\n",
        "data_types_dict = {'Total_Spend': np.float64, \"Conversions\": np.float64}\n",
        "  \n",
        "regression_data_frame = regression_data_frame.astype(data_types_dict)\n",
        "\n",
        "\n",
        "regression_data_frame"
      ]
    },
    {
      "cell_type": "code",
      "execution_count": null,
      "id": "8ff5bb3c",
      "metadata": {
        "id": "8ff5bb3c"
      },
      "outputs": [],
      "source": [
        "#data cleaning, breaking out spend by thousands of dollars. if your team has lower spend, comment out this step \n",
        "\n",
        "regression_data_frame[\"Total_Spend (Thousands)\"] = np.float64(0)\n",
        "\n",
        "for i in list(range(len(regression_data_frame[\"Total_Spend (Thousands)\"]))):\n",
        "    regression_data_frame[\"Total_Spend (Thousands)\"][i] = (regression_data_frame[\"Total_Spend\"][i])/1000\n",
        "\n",
        "regression_data_frame = regression_data_frame.drop([\"Total_Spend\"], axis = 1)\n",
        "\n",
        "regression_data_frame"
      ]
    },
    {
      "cell_type": "code",
      "execution_count": null,
      "id": "1e944f8b",
      "metadata": {
        "id": "1e944f8b"
      },
      "outputs": [],
      "source": [
        "#regression time! Importing packages here \n",
        "\n",
        "from sklearn import linear_model\n",
        "ols = linear_model.LinearRegression()\n",
        "\n",
        "## separate the input variables and output variables - add and remove columns in X as you see fit!\n",
        "X = regression_data_frame.drop([\"Conversions\", \"Date\",  \"Real_GDP\", \"Real_GDP_%_Change\", \"Fed_Interest_Rate\",  \"Recession_Dummy\"], axis = 1) # input variable\n",
        "Y = regression_data_frame['Conversions']  # output variable\n",
        "ols.fit(X, Y)\n",
        "print(\"Intercept: %f\" %ols.intercept_)\n",
        "print(\"Coefficients: %s\" %str(ols.coef_))\n",
        "print(\"R^2: %f\" %(ols.score(X, Y)))"
      ]
    },
    {
      "cell_type": "code",
      "execution_count": null,
      "id": "dff72b9f",
      "metadata": {
        "scrolled": false,
        "id": "dff72b9f"
      },
      "outputs": [],
      "source": [
        "#output and coefficients \n",
        "\n",
        "import statsmodels.api as sm \n",
        "X_add_const = sm.add_constant(X)\n",
        "output_1 = sm.OLS(Y, X_add_const)\n",
        "ans = output_1.fit()\n",
        "print(ans.summary())"
      ]
    },
    {
      "cell_type": "code",
      "execution_count": null,
      "id": "0a4bfc7b",
      "metadata": {
        "id": "0a4bfc7b"
      },
      "outputs": [],
      "source": [
        "from sklearn import linear_model\n",
        "ols2 = linear_model.LinearRegression()\n",
        "x = regression_data_frame[\"Total_Spend (Thousands)\"] # input varialbe\n",
        "y = regression_data_frame['Conversions']  # output variable\n",
        "\n",
        "plt.figure(figsize=(9, 6))\n",
        "plt.scatter(x, y, c='b')\n",
        "plt.xlabel('Spend')\n",
        "plt.ylabel('GCT')\n",
        "plt.show()"
      ]
    },
    {
      "cell_type": "code",
      "execution_count": null,
      "id": "92077d03",
      "metadata": {
        "id": "92077d03"
      },
      "outputs": [],
      "source": [
        "sns.pairplot(regression_data_frame)\n",
        "plt.show()"
      ]
    },
    {
      "cell_type": "code",
      "execution_count": null,
      "id": "7354ace4",
      "metadata": {
        "id": "7354ace4"
      },
      "outputs": [],
      "source": [
        "regression_data_frame.to_csv(\"regression_data_frame_complete.csv\")"
      ]
    }
  ],
  "metadata": {
    "kernelspec": {
      "display_name": "Python 3",
      "language": "python",
      "name": "python3"
    },
    "language_info": {
      "codemirror_mode": {
        "name": "ipython",
        "version": 3
      },
      "file_extension": ".py",
      "mimetype": "text/x-python",
      "name": "python",
      "nbconvert_exporter": "python",
      "pygments_lexer": "ipython3",
      "version": "3.8.8"
    },
    "colab": {
      "provenance": [],
      "include_colab_link": true
    }
  },
  "nbformat": 4,
  "nbformat_minor": 5
}